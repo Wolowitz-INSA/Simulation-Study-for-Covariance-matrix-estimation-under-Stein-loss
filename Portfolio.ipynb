{
  "nbformat": 4,
  "nbformat_minor": 0,
  "metadata": {
    "colab": {
      "name": "Portfolio.ipynb",
      "provenance": [],
      "collapsed_sections": [],
      "toc_visible": true
    },
    "kernelspec": {
      "name": "python3",
      "display_name": "Python 3"
    }
  },
  "cells": [
    {
      "cell_type": "code",
      "metadata": {
        "id": "7HBdQzu3VbVF"
      },
      "source": [
        "import numpy as np \r\n",
        "from numpy import random\r\n",
        "import pandas as pd \r\n",
        "import seaborn as sns\r\n",
        "import scipy \r\n",
        "from scipy.stats import chi2\r\n",
        "import math\r\n",
        "import sys\r\n",
        "from scipy.stats import beta\r\n",
        "from scipy.stats import invgamma\r\n",
        "import matplotlib.pyplot as plt\r\n",
        "#Module pour latex \r\n",
        "#from __future__ import unicode_literals\r\n",
        "import matplotlib as mpl\r\n",
        "#mpl.rcParams['text.usetex']=True\r\n",
        "#mpl.rcParams['text.latex.unicode']=True\r\n",
        "#Example plt.title(r\"\\ $\\alpha$\",  fontsize=16, color='r')"
      ],
      "execution_count": 1,
      "outputs": []
    },
    {
      "cell_type": "code",
      "metadata": {
        "colab": {
          "base_uri": "https://localhost:8080/"
        },
        "id": "RqMw1rStTOLQ",
        "outputId": "77845b87-a37c-4b6c-e4d6-57a9e1a4dec5"
      },
      "source": [
        "Sigma = np.loadtxt('/sigma_12.txt')\r\n",
        "Sigma_inv=np.linalg.pinv(Sigma)\r\n",
        "p = 20\r\n",
        "miu = np.ones((1,p)).T\r\n",
        "mean = np.loadtxt('/mean_12.txt')\r\n",
        "for i in range(0,p) :\r\n",
        "  miu[i] = mean[i]\r\n",
        "one_p = np.ones((1,p)).T\r\n",
        "sigma = one_p.T@Sigma_inv@one_p\r\n",
        "print(sigma)\r\n",
        "Wop = 1/sigma*Sigma_inv@one_p + 0.01*(Sigma_inv-1/sigma*Sigma_inv@one_p@one_p.T@Sigma_inv)@miu\r\n",
        "print(Wop)\r\n",
        "np.random.seed(100)\r\n"
      ],
      "execution_count": 34,
      "outputs": [
        {
          "output_type": "stream",
          "text": [
            "[[5.83854344]]\n",
            "[[ 0.27254583]\n",
            " [-0.12152371]\n",
            " [-0.00556827]\n",
            " [-0.1605026 ]\n",
            " [ 0.22172766]\n",
            " [ 0.15256123]\n",
            " [ 0.06020187]\n",
            " [ 0.06720408]\n",
            " [-0.23610649]\n",
            " [ 0.3124146 ]\n",
            " [ 0.36444955]\n",
            " [-0.02597318]\n",
            " [ 0.04424516]\n",
            " [ 0.06251353]\n",
            " [ 0.02845784]\n",
            " [-0.02957898]\n",
            " [ 0.09849517]\n",
            " [ 0.29582064]\n",
            " [-0.09802912]\n",
            " [-0.30335482]]\n"
          ],
          "name": "stdout"
        }
      ]
    }
  ]
}